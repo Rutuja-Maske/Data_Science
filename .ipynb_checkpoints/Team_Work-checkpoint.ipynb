{
 "cells": [
  {
   "cell_type": "code",
   "execution_count": 2,
   "id": "2bc84cb0-fa8d-4344-b291-330c40ba6bb8",
   "metadata": {},
   "outputs": [],
   "source": [
    "# Import necessary libraries\n",
    "import pandas as pd\n",
    "import matplotlib.pyplot as plt\n"
   ]
  },
  {
   "cell_type": "code",
   "execution_count": 3,
   "id": "999b7788-2810-4aef-ab02-ea6816e1ed5a",
   "metadata": {},
   "outputs": [],
   "source": [
    "# Create a simple dataset\n",
    "data = {\n",
    "    'Name': ['Alice', 'Bob', 'Charlie', 'David', 'Eva'],\n",
    "    'Age': [25, 30, 35, 40, 22],\n",
    "    'Salary': [50000, 54000, 60000, 62000, 58000]\n",
    "}\n"
   ]
  },
  {
   "cell_type": "code",
   "execution_count": 4,
   "id": "a15892ab-4c9c-4f3c-a8cd-e02a591afa58",
   "metadata": {},
   "outputs": [
    {
     "name": "stdout",
     "output_type": "stream",
     "text": [
      "DataFrame:\n",
      "      Name  Age  Salary\n",
      "0    Alice   25   50000\n",
      "1      Bob   30   54000\n",
      "2  Charlie   35   60000\n",
      "3    David   40   62000\n",
      "4      Eva   22   58000\n",
      "\n",
      "The average salary is: 56800.0\n"
     ]
    }
   ],
   "source": [
    "# Create a DataFrame\n",
    "df = pd.DataFrame(data)\n",
    "# Display the DataFrame\n",
    "print(\"DataFrame:\")\n",
    "print(df)\n",
    "\n",
    "# Calculate the mean salary\n",
    "mean_salary = df['Salary'].mean()\n",
    "print(\"\\nThe average salary is:\", mean_salary)\n"
   ]
  },
  {
   "cell_type": "code",
   "execution_count": null,
   "id": "5016eda9-0643-4acb-979f-10a35825071f",
   "metadata": {},
   "outputs": [],
   "source": []
  }
 ],
 "metadata": {
  "kernelspec": {
   "display_name": "Python (myenv)",
   "language": "python",
   "name": "myenv"
  },
  "language_info": {
   "codemirror_mode": {
    "name": "ipython",
    "version": 3
   },
   "file_extension": ".py",
   "mimetype": "text/x-python",
   "name": "python",
   "nbconvert_exporter": "python",
   "pygments_lexer": "ipython3",
   "version": "3.12.0"
  }
 },
 "nbformat": 4,
 "nbformat_minor": 5
}
