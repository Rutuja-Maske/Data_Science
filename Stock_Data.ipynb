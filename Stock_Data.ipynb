{
 "cells": [
  {
   "cell_type": "code",
   "execution_count": null,
   "id": "1617b753-3c11-4032-8c5e-70348d720e30",
   "metadata": {},
   "outputs": [
    {
     "name": "stderr",
     "output_type": "stream",
     "text": [
      "INFO:     Started server process [7196]\n",
      "INFO:     Waiting for application startup.\n",
      "INFO:     Application startup complete.\n",
      "INFO:     Uvicorn running on http://127.0.0.1:8000 (Press CTRL+C to quit)\n"
     ]
    },
    {
     "name": "stdout",
     "output_type": "stream",
     "text": [
      "INFO:     127.0.0.1:55841 - \"GET /stock/AAPL HTTP/1.1\" 200 OK\n"
     ]
    }
   ],
   "source": [
    "import yfinance as yf\n",
    "from fastapi import FastAPI\n",
    "import nest_asyncio\n",
    "import uvicorn\n",
    "import time\n",
    "from datetime import datetime\n",
    "\n",
    "# Allow FastAPI to run in Jupyter Notebook\n",
    "nest_asyncio.apply()\n",
    "\n",
    "app = FastAPI()\n",
    "\n",
    "@app.get(\"/stock/{ticker}\")\n",
    "def get_stock_data(ticker: str):\n",
    "    stock = yf.Ticker(ticker)\n",
    "    data = stock.history(period=\"1d\", interval=\"1m\")  # Get 1-minute interval data\n",
    "    latest_data = data.tail(1).to_dict(orient=\"records\")  # Get the latest data\n",
    "    return {\"ticker\": ticker, \"latest_data\": latest_data}\n",
    "\n",
    "# Function to run the FastAPI application\n",
    "def run_app():\n",
    "    uvicorn.run(app, host=\"127.0.0.1\", port=8000)\n",
    "\n",
    "# Start the FastAPI application\n",
    "run_app()\n"
   ]
  },
  {
   "cell_type": "code",
   "execution_count": null,
   "id": "9e1c69be-f154-4b38-88c4-e4ab0e9e4da7",
   "metadata": {},
   "outputs": [],
   "source": [
    "import requests\n",
    "import time\n",
    "from datetime import datetime\n",
    "\n",
    "ticker_symbol = \"AAPL\"  # Change this to any stock ticker you want to monitor\n",
    "interval = 60  # Time in seconds\n",
    "\n",
    "while True:\n",
    "    response = requests.get(f\"http://127.0.0.1:8000/stock/{ticker_symbol}\")\n",
    "    if response.status_code == 200:\n",
    "        data = response.json()\n",
    "        print(f\"Timestamp: {datetime.now()}, Data: {data}\")\n",
    "    else:\n",
    "        print(f\"Error: {response.status_code}\")\n",
    "    time.sleep(interval)  # Wait for the specified interval\n"
   ]
  },
  {
   "cell_type": "code",
   "execution_count": null,
   "id": "3e7155ad-d729-4cf9-a37a-dc6e88605437",
   "metadata": {},
   "outputs": [],
   "source": []
  }
 ],
 "metadata": {
  "kernelspec": {
   "display_name": "Python (myenv)",
   "language": "python",
   "name": "myenv"
  },
  "language_info": {
   "codemirror_mode": {
    "name": "ipython",
    "version": 3
   },
   "file_extension": ".py",
   "mimetype": "text/x-python",
   "name": "python",
   "nbconvert_exporter": "python",
   "pygments_lexer": "ipython3",
   "version": "3.12.0"
  }
 },
 "nbformat": 4,
 "nbformat_minor": 5
}
