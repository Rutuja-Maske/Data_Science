{
 "cells": [
  {
   "cell_type": "code",
   "execution_count": null,
   "id": "40785daf-6fb9-4717-8bfa-13b1b086cd68",
   "metadata": {},
   "outputs": [
    {
     "name": "stdout",
     "output_type": "stream",
     "text": [
      "Time: 2024-11-05 19:59:00, Open: 223.0999, High: 223.1500, Low: 222.9000, Close: 223.0000, Volume: 3003\n",
      "No new data, skipping print.\n",
      "No new data, skipping print.\n",
      "No new data, skipping print.\n",
      "No new data, skipping print.\n",
      "No new data, skipping print.\n",
      "No new data, skipping print.\n"
     ]
    }
   ],
   "source": [
    "import requests\n",
    "import time\n",
    "\n",
    "# Your API key and stock symbol (e.g., AAPL for Apple)\n",
    "api_key = 'YI7VO8EOIFBWQ83F'\n",
    "stock_symbol = 'AAPL'\n",
    "\n",
    "# Define the API URL\n",
    "url = 'https://www.alphavantage.co/query'\n",
    "\n",
    "# Define the time interval for data fetching (in seconds, e.g., 60 seconds)\n",
    "interval = 60\n",
    "\n",
    "# Initialize the last_data variable before the loop\n",
    "last_data = None\n",
    "\n",
    "# Function to fetch stock data from Alpha Vantage API\n",
    "def fetch_stock_data():\n",
    "    global last_data  # Use the global variable\n",
    "\n",
    "    params = {\n",
    "        \"function\": \"TIME_SERIES_INTRADAY\",  # Intraday data\n",
    "        \"symbol\": stock_symbol,              # Stock symbol\n",
    "        \"interval\": \"1min\",                  # Time interval (1 minute)\n",
    "        \"apikey\": api_key                    # API key\n",
    "    }\n",
    "\n",
    "    try:\n",
    "        response = requests.get(url, params=params)\n",
    "        \n",
    "        if response.status_code == 200:\n",
    "            data = response.json()\n",
    "\n",
    "            # Check if data is available\n",
    "            if \"Time Series (1min)\" in data:\n",
    "                latest_data = data[\"Time Series (1min)\"]\n",
    "                latest_time = list(latest_data.keys())[0]\n",
    "                latest_info = latest_data[latest_time]\n",
    "\n",
    "                # Compare with last data to check for updates\n",
    "                if last_data != latest_info:\n",
    "                    print(f\"Time: {latest_time}, Open: {latest_info['1. open']}, High: {latest_info['2. high']}, Low: {latest_info['3. low']}, Close: {latest_info['4. close']}, Volume: {latest_info['5. volume']}\")\n",
    "                    last_data = latest_info  # Update the last seen data\n",
    "                else:\n",
    "                    print(\"No new data, skipping print.\")\n",
    "\n",
    "            else:\n",
    "                print(\"No data available.\")\n",
    "        else:\n",
    "            print(f\"Failed to fetch data. Status code: {response.status_code}\")\n",
    "    \n",
    "    except requests.exceptions.RequestException as e:\n",
    "        print(\"An error occurred:\", e)\n",
    "\n",
    "# Run the fetch_stock_data function at regular intervals\n",
    "while True:\n",
    "    fetch_stock_data()\n",
    "    time.sleep(interval)  # Wait for the specified interval before fetching again\n"
   ]
  },
  {
   "cell_type": "code",
   "execution_count": null,
   "id": "38847a31-417e-422d-823d-dba030010926",
   "metadata": {},
   "outputs": [],
   "source": []
  }
 ],
 "metadata": {
  "kernelspec": {
   "display_name": "Python (myenv)",
   "language": "python",
   "name": "myenv"
  },
  "language_info": {
   "codemirror_mode": {
    "name": "ipython",
    "version": 3
   },
   "file_extension": ".py",
   "mimetype": "text/x-python",
   "name": "python",
   "nbconvert_exporter": "python",
   "pygments_lexer": "ipython3",
   "version": "3.12.0"
  }
 },
 "nbformat": 4,
 "nbformat_minor": 5
}
